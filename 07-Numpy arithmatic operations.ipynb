{
 "cells": [
  {
   "cell_type": "code",
   "execution_count": 1,
   "id": "5938bf81",
   "metadata": {},
   "outputs": [],
   "source": [
    "import numpy as np"
   ]
  },
  {
   "cell_type": "code",
   "execution_count": 2,
   "id": "ac1a75f6",
   "metadata": {},
   "outputs": [
    {
     "name": "stdout",
     "output_type": "stream",
     "text": [
      "[4 5 6 7]\n"
     ]
    }
   ],
   "source": [
    "var = np.array([1,2,3,4])\n",
    "varadd = var + 3\n",
    "print(varadd)"
   ]
  },
  {
   "cell_type": "code",
   "execution_count": 3,
   "id": "7db476d1",
   "metadata": {},
   "outputs": [
    {
     "name": "stdout",
     "output_type": "stream",
     "text": [
      "[2 4 6 8]\n"
     ]
    }
   ],
   "source": [
    "var1 = np.array([1,2,3,4])\n",
    "var2 = np.array([1,2,3,4])\n",
    "varadd1 = var1 + var2\n",
    "\n",
    "print(varadd1)"
   ]
  },
  {
   "cell_type": "code",
   "execution_count": 4,
   "id": "529018bd",
   "metadata": {},
   "outputs": [
    {
     "name": "stdout",
     "output_type": "stream",
     "text": [
      "[0 0 0 0]\n"
     ]
    }
   ],
   "source": [
    "var1 = np.array([1,2,3,4])\n",
    "var2 = np.array([1,2,3,4])\n",
    "varadd1 = var1 - var2\n",
    "\n",
    "print(varadd1)"
   ]
  },
  {
   "cell_type": "code",
   "execution_count": 5,
   "id": "adf3f17d",
   "metadata": {},
   "outputs": [
    {
     "name": "stdout",
     "output_type": "stream",
     "text": [
      "[ 1  4  9 16]\n"
     ]
    }
   ],
   "source": [
    "var1 = np.array([1,2,3,4])\n",
    "var2 = np.array([1,2,3,4])\n",
    "varadd1 = var1 * var2\n",
    "\n",
    "print(varadd1)"
   ]
  },
  {
   "cell_type": "code",
   "execution_count": 6,
   "id": "8f169194",
   "metadata": {},
   "outputs": [
    {
     "name": "stdout",
     "output_type": "stream",
     "text": [
      "[1. 1. 1. 1.]\n"
     ]
    }
   ],
   "source": [
    "var1 = np.array([1,2,3,4])\n",
    "var2 = np.array([1,2,3,4])\n",
    "varadd1 = var1 / var2\n",
    "\n",
    "print(varadd1)"
   ]
  },
  {
   "cell_type": "code",
   "execution_count": 7,
   "id": "877c1c2f",
   "metadata": {},
   "outputs": [
    {
     "name": "stdout",
     "output_type": "stream",
     "text": [
      "[0 0 0 0]\n"
     ]
    }
   ],
   "source": [
    "var1 = np.array([1,2,3,4])\n",
    "var2 = np.array([1,2,3,4])\n",
    "varadd1 = var1 % var2\n",
    "\n",
    "print(varadd1)"
   ]
  },
  {
   "cell_type": "code",
   "execution_count": 8,
   "id": "3fc036b3",
   "metadata": {},
   "outputs": [
    {
     "name": "stdout",
     "output_type": "stream",
     "text": [
      "[  1   4  27 256]\n"
     ]
    }
   ],
   "source": [
    "var1 = np.array([1,2,3,4])\n",
    "var2 = np.array([1,2,3,4])\n",
    "varadd1 = var1 ** var2\n",
    "\n",
    "print(varadd1)"
   ]
  },
  {
   "cell_type": "code",
   "execution_count": 9,
   "id": "1f916e42",
   "metadata": {},
   "outputs": [
    {
     "name": "stdout",
     "output_type": "stream",
     "text": [
      "[2 4 6 8]\n"
     ]
    }
   ],
   "source": [
    "var1 = np.array([1,2,3,4])\n",
    "var2 = np.array([1,2,3,4])\n",
    "varadd1 = np.add(var1, var2)  # performing arthmatic operation using the add() function\n",
    "\n",
    "print(varadd1)"
   ]
  },
  {
   "cell_type": "code",
   "execution_count": null,
   "id": "cf33a0c9",
   "metadata": {},
   "outputs": [],
   "source": []
  },
  {
   "cell_type": "code",
   "execution_count": null,
   "id": "2fcdd4e9",
   "metadata": {},
   "outputs": [],
   "source": []
  },
  {
   "cell_type": "code",
   "execution_count": 12,
   "id": "95abe5fa",
   "metadata": {},
   "outputs": [
    {
     "name": "stdout",
     "output_type": "stream",
     "text": [
      "[[1 2 3 4]\n",
      " [1 2 3 4]]\n",
      "\n",
      "[[1 2 3 4]\n",
      " [1 2 3 4]]\n",
      "\n",
      "[[2 4 6 8]\n",
      " [2 4 6 8]]\n"
     ]
    }
   ],
   "source": [
    "#performing arithmatic operations on 2D array\n",
    "var21 = np.array([[1,2,3,4],[1,2,3,4]])\n",
    "var22 = np.array([[1,2,3,4],[1,2,3,4]])\n",
    "\n",
    "print(var21)\n",
    "print()\n",
    "print(var22)\n",
    "print()\n",
    "varadd21 = var21 + var22\n",
    "\n",
    "print(varadd21)"
   ]
  },
  {
   "cell_type": "code",
   "execution_count": 13,
   "id": "65d80a22",
   "metadata": {},
   "outputs": [
    {
     "name": "stdout",
     "output_type": "stream",
     "text": [
      "[[1 2 3 4]\n",
      " [1 2 3 4]]\n",
      "\n",
      "[[1 2 3 4]\n",
      " [1 2 3 4]]\n",
      "\n",
      "[[ 1  4  9 16]\n",
      " [ 1  4  9 16]]\n"
     ]
    }
   ],
   "source": [
    "var21 = np.array([[1,2,3,4],[1,2,3,4]])\n",
    "var22 = np.array([[1,2,3,4],[1,2,3,4]])\n",
    "\n",
    "print(var21)\n",
    "print()\n",
    "print(var22)\n",
    "print()\n",
    "varadd21 = var21 * var22\n",
    "\n",
    "print(varadd21)"
   ]
  },
  {
   "cell_type": "code",
   "execution_count": null,
   "id": "b6d65e41",
   "metadata": {},
   "outputs": [],
   "source": []
  },
  {
   "cell_type": "code",
   "execution_count": null,
   "id": "6652c7cf",
   "metadata": {},
   "outputs": [],
   "source": []
  },
  {
   "cell_type": "code",
   "execution_count": 23,
   "id": "76a12ab1",
   "metadata": {},
   "outputs": [
    {
     "name": "stdout",
     "output_type": "stream",
     "text": [
      "Minimum value in the array is: 1 0\n",
      "Maximum value in the array is: 5 4\n",
      "sqrt:  [1.         1.41421356 1.73205081 2.         2.23606798 1.73205081\n",
      " 1.41421356]\n"
     ]
    }
   ],
   "source": [
    "#some more arithmatic functions on numpy array\n",
    "var = np.array([1,2,3,4,5,3,2])\n",
    "\n",
    "print(\"Minimum value in the array is:\",np.min(var), np.argmin(var))\n",
    "print(\"Maximum value in the array is:\",np.max(var), np.argmax(var))\n",
    "print(\"sqrt: \", np.sqrt(var))\n"
   ]
  },
  {
   "cell_type": "code",
   "execution_count": 21,
   "id": "fa36a100",
   "metadata": {},
   "outputs": [
    {
     "name": "stdout",
     "output_type": "stream",
     "text": [
      "[1 5]\n"
     ]
    }
   ],
   "source": [
    "var1 = np.array([[2,1,3],[9,5,6]])\n",
    "\n",
    "print(np.min(var1,axis = 1))  #axis is used to find min, max in 2D array"
   ]
  },
  {
   "cell_type": "code",
   "execution_count": 26,
   "id": "035a2352",
   "metadata": {},
   "outputs": [
    {
     "name": "stdout",
     "output_type": "stream",
     "text": [
      "[0.84147098 0.90929743 0.14112001]\n",
      "[ 0.54030231 -0.41614684 -0.9899925 ]\n",
      "[1 3 6]\n"
     ]
    }
   ],
   "source": [
    "var2 = np.array([1,2,3])\n",
    "\n",
    "print(np.sin(var2))\n",
    "print(np.cos(var2))\n",
    "print(np.cumsum(var2))"
   ]
  },
  {
   "cell_type": "code",
   "execution_count": null,
   "id": "e30040c9",
   "metadata": {},
   "outputs": [],
   "source": []
  }
 ],
 "metadata": {
  "kernelspec": {
   "display_name": "Python 3 (ipykernel)",
   "language": "python",
   "name": "python3"
  },
  "language_info": {
   "codemirror_mode": {
    "name": "ipython",
    "version": 3
   },
   "file_extension": ".py",
   "mimetype": "text/x-python",
   "name": "python",
   "nbconvert_exporter": "python",
   "pygments_lexer": "ipython3",
   "version": "3.11.5"
  }
 },
 "nbformat": 4,
 "nbformat_minor": 5
}
