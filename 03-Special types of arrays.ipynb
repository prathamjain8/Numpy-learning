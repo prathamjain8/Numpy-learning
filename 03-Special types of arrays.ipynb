{
 "cells": [
  {
   "cell_type": "code",
   "execution_count": 1,
   "id": "a10a8a71",
   "metadata": {},
   "outputs": [],
   "source": [
    "import numpy as np"
   ]
  },
  {
   "cell_type": "markdown",
   "id": "1e2db511",
   "metadata": {},
   "source": [
    "# Array with 0's"
   ]
  },
  {
   "cell_type": "code",
   "execution_count": 2,
   "id": "e5c403f2",
   "metadata": {},
   "outputs": [
    {
     "name": "stdout",
     "output_type": "stream",
     "text": [
      "[0. 0. 0. 0.]\n",
      "\n",
      "[[0. 0. 0. 0.]\n",
      " [0. 0. 0. 0.]\n",
      " [0. 0. 0. 0.]]\n"
     ]
    }
   ],
   "source": [
    "ar_zero = np.zeros(4)\n",
    "ar_zero1 = np.zeros((3,4))\n",
    "print(ar_zero)\n",
    "print()\n",
    "print(ar_zero1)"
   ]
  },
  {
   "cell_type": "code",
   "execution_count": null,
   "id": "8b131402",
   "metadata": {},
   "outputs": [],
   "source": []
  },
  {
   "cell_type": "markdown",
   "id": "148f37cc",
   "metadata": {},
   "source": [
    "# Array with 1's"
   ]
  },
  {
   "cell_type": "code",
   "execution_count": 3,
   "id": "bba7694b",
   "metadata": {},
   "outputs": [
    {
     "name": "stdout",
     "output_type": "stream",
     "text": [
      "[1. 1. 1. 1.]\n",
      "\n",
      "[[1. 1. 1. 1.]\n",
      " [1. 1. 1. 1.]\n",
      " [1. 1. 1. 1.]]\n"
     ]
    }
   ],
   "source": [
    "ar_one = np.ones(4)\n",
    "ar_one1 = np.ones((3,4))\n",
    "print(ar_one)\n",
    "print()\n",
    "print(ar_one1)"
   ]
  },
  {
   "cell_type": "code",
   "execution_count": null,
   "id": "e9f440b1",
   "metadata": {},
   "outputs": [],
   "source": []
  },
  {
   "cell_type": "markdown",
   "id": "2e5ee5a7",
   "metadata": {},
   "source": [
    "# Empty array"
   ]
  },
  {
   "cell_type": "code",
   "execution_count": 4,
   "id": "93d4c27f",
   "metadata": {},
   "outputs": [
    {
     "name": "stdout",
     "output_type": "stream",
     "text": [
      "[1. 1. 1. 1.]\n"
     ]
    }
   ],
   "source": [
    "ar_em = np.empty(4)\n",
    "\n",
    "print(ar_em)"
   ]
  },
  {
   "cell_type": "code",
   "execution_count": null,
   "id": "967533b0",
   "metadata": {},
   "outputs": [],
   "source": []
  },
  {
   "cell_type": "markdown",
   "id": "33a859bf",
   "metadata": {},
   "source": [
    "# Array with range of values"
   ]
  },
  {
   "cell_type": "code",
   "execution_count": 5,
   "id": "13825d2a",
   "metadata": {},
   "outputs": [
    {
     "name": "stdout",
     "output_type": "stream",
     "text": [
      "[0 1 2 3]\n"
     ]
    }
   ],
   "source": [
    "ar_rn = np.arange(4)\n",
    "\n",
    "print(ar_rn)"
   ]
  },
  {
   "cell_type": "code",
   "execution_count": null,
   "id": "12c2fbe2",
   "metadata": {},
   "outputs": [],
   "source": []
  },
  {
   "cell_type": "markdown",
   "id": "9e9d4432",
   "metadata": {},
   "source": [
    "# Array diagonal elements filled with 1's"
   ]
  },
  {
   "cell_type": "code",
   "execution_count": 6,
   "id": "c2594b55",
   "metadata": {},
   "outputs": [
    {
     "name": "stdout",
     "output_type": "stream",
     "text": [
      "[[1. 0. 0.]\n",
      " [0. 1. 0.]\n",
      " [0. 0. 1.]]\n"
     ]
    }
   ],
   "source": [
    "ar_dia = np.eye(3)\n",
    "print(ar_dia)"
   ]
  },
  {
   "cell_type": "code",
   "execution_count": null,
   "id": "9a765bbd",
   "metadata": {},
   "outputs": [],
   "source": []
  },
  {
   "cell_type": "markdown",
   "id": "b8ad5f22",
   "metadata": {},
   "source": [
    "# Array with a specified interval"
   ]
  },
  {
   "cell_type": "code",
   "execution_count": 7,
   "id": "aa5ba988",
   "metadata": {},
   "outputs": [
    {
     "name": "stdout",
     "output_type": "stream",
     "text": [
      "[ 0.  5. 10. 15. 20.]\n"
     ]
    }
   ],
   "source": [
    "ar_lin = np.linspace(0,20,num=5)\n",
    "print(ar_lin)"
   ]
  },
  {
   "cell_type": "code",
   "execution_count": null,
   "id": "7935efd2",
   "metadata": {},
   "outputs": [],
   "source": []
  },
  {
   "cell_type": "code",
   "execution_count": null,
   "id": "8f934cb4",
   "metadata": {},
   "outputs": [],
   "source": []
  }
 ],
 "metadata": {
  "kernelspec": {
   "display_name": "Python 3 (ipykernel)",
   "language": "python",
   "name": "python3"
  },
  "language_info": {
   "codemirror_mode": {
    "name": "ipython",
    "version": 3
   },
   "file_extension": ".py",
   "mimetype": "text/x-python",
   "name": "python",
   "nbconvert_exporter": "python",
   "pygments_lexer": "ipython3",
   "version": "3.11.5"
  }
 },
 "nbformat": 4,
 "nbformat_minor": 5
}
