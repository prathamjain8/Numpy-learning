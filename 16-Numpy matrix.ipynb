{
 "cells": [
  {
   "cell_type": "code",
   "execution_count": 1,
   "id": "2628cc5d",
   "metadata": {},
   "outputs": [],
   "source": [
    "import numpy as np"
   ]
  },
  {
   "cell_type": "code",
   "execution_count": 14,
   "id": "ef5480a3",
   "metadata": {},
   "outputs": [
    {
     "name": "stdout",
     "output_type": "stream",
     "text": [
      "[[1 2]\n",
      " [1 2]]\n",
      "<class 'numpy.matrix'>\n",
      "\n",
      "[[2 4]\n",
      " [2 4]]\n",
      "\n",
      "[[0 0]\n",
      " [0 0]]\n",
      "\n",
      "[[3 6]\n",
      " [3 6]]\n",
      "\n",
      "[[3 6]\n",
      " [3 6]]\n"
     ]
    }
   ],
   "source": [
    "var = np.matrix([[1,2],[1,2]])  #creation of numpy matrix\n",
    "var2 = np.matrix([[1,2],[1,2]])\n",
    "print(var)\n",
    "print(type(var))\n",
    "print()\n",
    "print(var+var2)  #addition of numpy matrix\n",
    "print()\n",
    "print(var-var2)  #subtraction of numpy matrix\n",
    "print()\n",
    "print(var*var2)\n",
    "print()\n",
    "print(var.dot(var2))"
   ]
  },
  {
   "cell_type": "code",
   "execution_count": 15,
   "id": "d73a4873",
   "metadata": {},
   "outputs": [
    {
     "name": "stdout",
     "output_type": "stream",
     "text": [
      "[[1 2 3]\n",
      " [1 2 3]]\n",
      "<class 'numpy.ndarray'>\n",
      "\n",
      "[[1 4 9]\n",
      " [1 4 9]]\n"
     ]
    }
   ],
   "source": [
    "var1 = np.array([[1,2,3],[1,2,3]])  #creation of numpy array\n",
    "\n",
    "print(var1)\n",
    "print(type(var1))\n",
    "print()\n",
    "print(var1*var1)"
   ]
  },
  {
   "cell_type": "code",
   "execution_count": null,
   "id": "b41b596a",
   "metadata": {},
   "outputs": [],
   "source": []
  }
 ],
 "metadata": {
  "kernelspec": {
   "display_name": "Python 3 (ipykernel)",
   "language": "python",
   "name": "python3"
  },
  "language_info": {
   "codemirror_mode": {
    "name": "ipython",
    "version": 3
   },
   "file_extension": ".py",
   "mimetype": "text/x-python",
   "name": "python",
   "nbconvert_exporter": "python",
   "pygments_lexer": "ipython3",
   "version": "3.11.5"
  }
 },
 "nbformat": 4,
 "nbformat_minor": 5
}
