{
 "cells": [
  {
   "cell_type": "code",
   "execution_count": 1,
   "id": "acc4c134",
   "metadata": {},
   "outputs": [],
   "source": [
    "import numpy as np"
   ]
  },
  {
   "cell_type": "code",
   "execution_count": 2,
   "id": "c7cec9b9",
   "metadata": {},
   "outputs": [
    {
     "name": "stdout",
     "output_type": "stream",
     "text": [
      "[0.15352663 0.35178503 0.61560189 0.5650219 ]\n"
     ]
    }
   ],
   "source": [
    "#using the rand() function\n",
    "var = np.random.rand(4) #it will create a 1D array with 4 values and all the values is between 0 and 1\n",
    "\n",
    "print(var)"
   ]
  },
  {
   "cell_type": "code",
   "execution_count": 3,
   "id": "079ce882",
   "metadata": {},
   "outputs": [
    {
     "name": "stdout",
     "output_type": "stream",
     "text": [
      "[[0.85879476 0.39149014 0.44956356 0.44862189 0.35227778]\n",
      " [0.27992268 0.74896627 0.75242803 0.20593406 0.76181909]]\n"
     ]
    }
   ],
   "source": [
    "var1 = np.random.rand(2,5) #it will create a 2D array of 2*5 dimension and all the values is between 0 and 1\n",
    "\n",
    "print(var1)"
   ]
  },
  {
   "cell_type": "code",
   "execution_count": null,
   "id": "f60347f7",
   "metadata": {},
   "outputs": [],
   "source": []
  },
  {
   "cell_type": "code",
   "execution_count": 4,
   "id": "971fa2e5",
   "metadata": {},
   "outputs": [
    {
     "name": "stdout",
     "output_type": "stream",
     "text": [
      "[ 0.99479655 -0.02116113 -1.50889861  1.05143908]\n"
     ]
    }
   ],
   "source": [
    "#using the randn() function\n",
    "varn = np.random.randn(4) #it will create a 1D array with 4 values and all the values are close to 0 and may be -ve also \n",
    "\n",
    "print(varn)"
   ]
  },
  {
   "cell_type": "code",
   "execution_count": 5,
   "id": "2b2bf1cf",
   "metadata": {},
   "outputs": [
    {
     "name": "stdout",
     "output_type": "stream",
     "text": [
      "[[-1.03506054 -0.80304326 -0.26869981  0.57230935]\n",
      " [ 0.5487564  -0.93625682  0.39796458 -0.98052088]\n",
      " [-1.70856124 -0.27105806  1.1752295   0.05016157]]\n"
     ]
    }
   ],
   "source": [
    "varn1 = np.random.randn(3,4) #it will create a 1D array with 3*4 dimension all the values are close to 0 and may be -ve also \n",
    "\n",
    "print(varn1)"
   ]
  },
  {
   "cell_type": "code",
   "execution_count": null,
   "id": "c1442255",
   "metadata": {},
   "outputs": [],
   "source": []
  },
  {
   "cell_type": "code",
   "execution_count": 6,
   "id": "ccb35098",
   "metadata": {},
   "outputs": [
    {
     "name": "stdout",
     "output_type": "stream",
     "text": [
      "[0.49858454 0.8186094  0.67014024 0.49285596]\n"
     ]
    }
   ],
   "source": [
    "#using the ranf() function\n",
    "varf = np.random.ranf(4) \n",
    "\n",
    "print(varf)"
   ]
  },
  {
   "cell_type": "code",
   "execution_count": null,
   "id": "f49b83eb",
   "metadata": {},
   "outputs": [],
   "source": []
  },
  {
   "cell_type": "code",
   "execution_count": 8,
   "id": "55ce5f0d",
   "metadata": {},
   "outputs": [
    {
     "name": "stdout",
     "output_type": "stream",
     "text": [
      "[3 9 6 7 4]\n"
     ]
    }
   ],
   "source": [
    "#using the randint() function\n",
    "vard = np.random.randint(1,10,5 ) \n",
    "\n",
    "print(vard)"
   ]
  },
  {
   "cell_type": "code",
   "execution_count": null,
   "id": "d35fe03b",
   "metadata": {},
   "outputs": [],
   "source": []
  }
 ],
 "metadata": {
  "kernelspec": {
   "display_name": "Python 3 (ipykernel)",
   "language": "python",
   "name": "python3"
  },
  "language_info": {
   "codemirror_mode": {
    "name": "ipython",
    "version": 3
   },
   "file_extension": ".py",
   "mimetype": "text/x-python",
   "name": "python",
   "nbconvert_exporter": "python",
   "pygments_lexer": "ipython3",
   "version": "3.11.5"
  }
 },
 "nbformat": 4,
 "nbformat_minor": 5
}
