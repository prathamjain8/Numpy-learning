{
 "cells": [
  {
   "cell_type": "code",
   "execution_count": 1,
   "id": "4964c3bd",
   "metadata": {},
   "outputs": [],
   "source": [
    "import numpy as np"
   ]
  },
  {
   "cell_type": "markdown",
   "id": "ac2c89d2",
   "metadata": {},
   "source": [
    "# Indexing"
   ]
  },
  {
   "cell_type": "code",
   "execution_count": 2,
   "id": "013436f6",
   "metadata": {},
   "outputs": [
    {
     "name": "stdout",
     "output_type": "stream",
     "text": [
      "9\n",
      "6\n"
     ]
    }
   ],
   "source": [
    "var = np.array([9,8,7,6])  # indexing in 1D array starts from 0 and we can get the elements with the help of square brackets\n",
    "\n",
    "print(var[0])\n",
    "print(var[-1])  # we can also get the numbers from reverse by using the -ve indexing"
   ]
  },
  {
   "cell_type": "code",
   "execution_count": 3,
   "id": "ef29cd69",
   "metadata": {},
   "outputs": [
    {
     "name": "stdout",
     "output_type": "stream",
     "text": [
      "The dimension of the array is:  2\n",
      "\n",
      "[[9 8 7]\n",
      " [4 5 6]]\n",
      "5\n",
      "8\n"
     ]
    }
   ],
   "source": [
    "var1 = np.array([[9,8,7],[4,5,6]])\n",
    "\n",
    "print(\"The dimension of the array is: \",var1.ndim)\n",
    "print()\n",
    "print(var1)\n",
    "print(var1[1][1])   #this is how we access the elements of 2D array through indexing\n",
    "print(var1[0][1])"
   ]
  },
  {
   "cell_type": "code",
   "execution_count": 18,
   "id": "3eee91d1",
   "metadata": {},
   "outputs": [
    {
     "name": "stdout",
     "output_type": "stream",
     "text": [
      "[[[1 2]\n",
      "  [6 7]]]\n",
      "3\n",
      "\n",
      "6\n",
      "2\n"
     ]
    }
   ],
   "source": [
    "var2 = np.array([[[1,2],[6,7]]])\n",
    "\n",
    "print(var2)\n",
    "print(var2.ndim)\n",
    "print()\n",
    "\n",
    "print(var2[0][1][0])  # this is how we access the elements of 3D array using indexing\n",
    "print(var2[0][0][1])"
   ]
  },
  {
   "cell_type": "code",
   "execution_count": null,
   "id": "1a279fac",
   "metadata": {},
   "outputs": [],
   "source": []
  },
  {
   "cell_type": "markdown",
   "id": "32068391",
   "metadata": {},
   "source": [
    "# Slicing"
   ]
  },
  {
   "cell_type": "code",
   "execution_count": 30,
   "id": "a144211b",
   "metadata": {},
   "outputs": [
    {
     "name": "stdout",
     "output_type": "stream",
     "text": [
      "[1 2 3 4 5 6 7]\n",
      "\n",
      "2 to 5:  [2 3 4 5]\n",
      "2 to end:  [2 3 4 5 6 7]\n",
      "start to 5:  [1 2 3 4 5]\n",
      "\n",
      "Printing using step size of 2:  [2 4 6]\n",
      "Printing using step size of 2:  [1 3 5 7]\n"
     ]
    }
   ],
   "source": [
    "var = np.array([1,2,3,4,5,6,7])\n",
    "\n",
    "print(var)\n",
    "print()\n",
    "\n",
    "print(\"2 to 5: \",var[1:5])  # this is the syntax used to do the slicing in 1D arrays\n",
    "print(\"2 to end: \", var[1:])\n",
    "print(\"start to 5: \", var[:5])\n",
    "\n",
    "print()\n",
    "\n",
    "print(\"Printing using step size of 2: \", var[1:6:2])\n",
    "print(\"Printing using step size of 2: \", var[::2])"
   ]
  },
  {
   "cell_type": "code",
   "execution_count": 8,
   "id": "a8cd0e03",
   "metadata": {},
   "outputs": [
    {
     "name": "stdout",
     "output_type": "stream",
     "text": [
      "[[ 1  2  3  4  5]\n",
      " [ 9  8  7  6  5]\n",
      " [11 12 13 14 15]]\n",
      "\n",
      "8 to 5:  [8 7 6 5]\n",
      "8 to 5:  [12 13 14 15]\n"
     ]
    }
   ],
   "source": [
    "var1 = np.array([[1,2,3,4,5],[9,8,7,6,5],[11,12,13,14,15]])\n",
    "\n",
    "print(var1)\n",
    "print()\n",
    "print(\"8 to 5: \",var1[1,1:])  # this is how we use slicing in 2D arrays\n",
    "print(\"8 to 5: \",var1[2,1:])"
   ]
  },
  {
   "cell_type": "code",
   "execution_count": null,
   "id": "7f4816fa",
   "metadata": {},
   "outputs": [],
   "source": []
  }
 ],
 "metadata": {
  "kernelspec": {
   "display_name": "Python 3 (ipykernel)",
   "language": "python",
   "name": "python3"
  },
  "language_info": {
   "codemirror_mode": {
    "name": "ipython",
    "version": 3
   },
   "file_extension": ".py",
   "mimetype": "text/x-python",
   "name": "python",
   "nbconvert_exporter": "python",
   "pygments_lexer": "ipython3",
   "version": "3.11.5"
  }
 },
 "nbformat": 4,
 "nbformat_minor": 5
}
