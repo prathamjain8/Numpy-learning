{
 "cells": [
  {
   "cell_type": "code",
   "execution_count": 1,
   "id": "c7dc4618",
   "metadata": {},
   "outputs": [],
   "source": [
    "import numpy as np"
   ]
  },
  {
   "cell_type": "code",
   "execution_count": 9,
   "id": "06814efd",
   "metadata": {},
   "outputs": [
    {
     "name": "stdout",
     "output_type": "stream",
     "text": [
      "[[1 2 3]\n",
      " [4 5 6]]\n",
      "\n",
      "[[1 4]\n",
      " [2 5]\n",
      " [3 6]]\n",
      "\n",
      "[[1 4]\n",
      " [2 5]\n",
      " [3 6]]\n"
     ]
    }
   ],
   "source": [
    "mat = np.matrix([[1,2,3],[4,5,6]])\n",
    "\n",
    "print(mat)\n",
    "print()\n",
    "print(np.transpose(mat))  #using the transpose() function\n",
    "print()\n",
    "print(mat.T)  # this is also used to do transpose of the matrix"
   ]
  },
  {
   "cell_type": "code",
   "execution_count": 8,
   "id": "9f41cf90",
   "metadata": {},
   "outputs": [
    {
     "name": "stdout",
     "output_type": "stream",
     "text": [
      "[[1 2]\n",
      " [3 4]]\n",
      "\n",
      "[[1 3]\n",
      " [2 4]]\n"
     ]
    }
   ],
   "source": [
    "var2 = np.matrix([[1,2],[3,4]])\n",
    "\n",
    "print(var2)\n",
    "print()\n",
    "print(np.swapaxes(var2,0,1))  # this is how we use swapaxes() function"
   ]
  },
  {
   "cell_type": "code",
   "execution_count": null,
   "id": "407d00fc",
   "metadata": {},
   "outputs": [],
   "source": []
  },
  {
   "cell_type": "code",
   "execution_count": 10,
   "id": "1a13949b",
   "metadata": {},
   "outputs": [
    {
     "name": "stdout",
     "output_type": "stream",
     "text": [
      "[[1 2]\n",
      " [3 4]]\n",
      "\n",
      "[[-2.   1. ]\n",
      " [ 1.5 -0.5]]\n"
     ]
    }
   ],
   "source": [
    "var3 = np.matrix([[1,2],[3,4]])\n",
    "\n",
    "print(var3)\n",
    "print()\n",
    "print(np.linalg.inv(var2))  #this is how we create inverse matrix"
   ]
  },
  {
   "cell_type": "code",
   "execution_count": null,
   "id": "55e9834f",
   "metadata": {},
   "outputs": [],
   "source": []
  },
  {
   "cell_type": "code",
   "execution_count": 16,
   "id": "3b8431bc",
   "metadata": {},
   "outputs": [
    {
     "name": "stdout",
     "output_type": "stream",
     "text": [
      "[[1 2]\n",
      " [3 4]]\n",
      "\n",
      "[[ 7 10]\n",
      " [15 22]]\n",
      "\n",
      "[[1 0]\n",
      " [0 1]]\n",
      "\n",
      "[[ 5.5  -2.5 ]\n",
      " [-3.75  1.75]]\n"
     ]
    }
   ],
   "source": [
    "var4 = np.matrix([[1,2],[3,4]])\n",
    "\n",
    "print(var4)\n",
    "print()\n",
    "print(np.linalg.matrix_power(var4,2))  # finding power of matrix with n>0 \n",
    "print()\n",
    "print(np.linalg.matrix_power(var4,0))  #finding power of matrix with n=0\n",
    "print()\n",
    "print(np.linalg.matrix_power(var4,-2))  #finding power of matrix with n<0"
   ]
  },
  {
   "cell_type": "code",
   "execution_count": null,
   "id": "bf9dd251",
   "metadata": {},
   "outputs": [],
   "source": []
  },
  {
   "cell_type": "code",
   "execution_count": 19,
   "id": "65119016",
   "metadata": {},
   "outputs": [
    {
     "name": "stdout",
     "output_type": "stream",
     "text": [
      "[[1 2 3]\n",
      " [3 4 3]\n",
      " [1 2 3]]\n",
      "\n",
      "0.0\n"
     ]
    }
   ],
   "source": [
    "var5 = np.matrix([[1,2,3],[3,4,3],[1,2,3]])\n",
    "\n",
    "print(var5)\n",
    "print()\n",
    "print(np.linalg.det(var5))  # this is how we can find determinate or matrix"
   ]
  },
  {
   "cell_type": "code",
   "execution_count": null,
   "id": "acc73970",
   "metadata": {},
   "outputs": [],
   "source": []
  }
 ],
 "metadata": {
  "kernelspec": {
   "display_name": "Python 3 (ipykernel)",
   "language": "python",
   "name": "python3"
  },
  "language_info": {
   "codemirror_mode": {
    "name": "ipython",
    "version": 3
   },
   "file_extension": ".py",
   "mimetype": "text/x-python",
   "name": "python",
   "nbconvert_exporter": "python",
   "pygments_lexer": "ipython3",
   "version": "3.11.5"
  }
 },
 "nbformat": 4,
 "nbformat_minor": 5
}
