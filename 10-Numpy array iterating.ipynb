{
 "cells": [
  {
   "cell_type": "code",
   "execution_count": 1,
   "id": "90aa7b02",
   "metadata": {},
   "outputs": [],
   "source": [
    "import numpy as np"
   ]
  },
  {
   "cell_type": "code",
   "execution_count": 3,
   "id": "7791ed50",
   "metadata": {},
   "outputs": [
    {
     "name": "stdout",
     "output_type": "stream",
     "text": [
      "[9 8 7 6 5 4]\n",
      "\n",
      "9\n",
      "8\n",
      "7\n",
      "6\n",
      "5\n",
      "4\n"
     ]
    }
   ],
   "source": [
    "var = np.array([9,8,7,6,5,4])\n",
    "\n",
    "print(var)\n",
    "print()\n",
    "\n",
    "for i in var:  # this is how we iterate in 1D arrays by using 1 for loop\n",
    "    print(i)"
   ]
  },
  {
   "cell_type": "code",
   "execution_count": 6,
   "id": "99e28a3f",
   "metadata": {},
   "outputs": [
    {
     "name": "stdout",
     "output_type": "stream",
     "text": [
      "[[1 2 3 4]\n",
      " [1 2 3 4]]\n",
      "\n",
      "1\n",
      "2\n",
      "3\n",
      "4\n",
      "1\n",
      "2\n",
      "3\n",
      "4\n"
     ]
    }
   ],
   "source": [
    "var1 = np.array([[1,2,3,4],[1,2,3,4]])\n",
    "\n",
    "print(var1)\n",
    "print()\n",
    "\n",
    "for j in var1:  # this is how we iterate in 2D arrays by using 2 for loop\n",
    "    for i in j:\n",
    "        print(i)"
   ]
  },
  {
   "cell_type": "code",
   "execution_count": 10,
   "id": "13c27e36",
   "metadata": {},
   "outputs": [
    {
     "name": "stdout",
     "output_type": "stream",
     "text": [
      "[[[1 2 3]\n",
      "  [4 5 6]]]\n",
      "\n",
      "1\n",
      "2\n",
      "3\n",
      "4\n",
      "5\n",
      "6\n"
     ]
    }
   ],
   "source": [
    "var3 = np.array([[[1,2,3],[4,5,6]]])\n",
    "\n",
    "print(var3)\n",
    "print()\n",
    "\n",
    "for i in var3:  # this is how we iterate in 3D arrays by using 3 for loop\n",
    "    for j in i:\n",
    "        for k in j:\n",
    "            print(k)"
   ]
  },
  {
   "cell_type": "code",
   "execution_count": 11,
   "id": "90649759",
   "metadata": {},
   "outputs": [
    {
     "name": "stdout",
     "output_type": "stream",
     "text": [
      "[[[1 2 3]\n",
      "  [4 5 6]]]\n",
      "\n",
      "1\n",
      "2\n",
      "3\n",
      "4\n",
      "5\n",
      "6\n"
     ]
    }
   ],
   "source": [
    "var3 = np.array([[[1,2,3],[4,5,6]]])\n",
    "\n",
    "print(var3)\n",
    "print()\n",
    "\n",
    "for i in np.nditer(var3):  # we can also iterate the array without using the for-loop again and again with the help of \n",
    "                           # the nditer() function\n",
    "    print(i)"
   ]
  },
  {
   "cell_type": "code",
   "execution_count": 2,
   "id": "e45a760e",
   "metadata": {},
   "outputs": [
    {
     "name": "stdout",
     "output_type": "stream",
     "text": [
      "[[[1 2 3]\n",
      "  [4 5 6]]]\n",
      "\n",
      "b'1'\n",
      "b'2'\n",
      "b'3'\n",
      "b'4'\n",
      "b'5'\n",
      "b'6'\n"
     ]
    }
   ],
   "source": [
    "var4 = np.array([[[1,2,3],[4,5,6]]])\n",
    "\n",
    "print(var4)\n",
    "print()\n",
    "\n",
    "for i in np.nditer(var4, flags=['buffered'], op_dtypes=[\"S\"]):  # we can also use many other arguments in the nditer() function also\n",
    "    print(i)"
   ]
  },
  {
   "cell_type": "code",
   "execution_count": 3,
   "id": "ea7eb94e",
   "metadata": {},
   "outputs": [
    {
     "name": "stdout",
     "output_type": "stream",
     "text": [
      "[[[1 2 3]\n",
      "  [4 5 6]]]\n",
      "3\n",
      "(1, 2, 3)\n",
      "\n",
      "((0, 0, 0), 1)\n",
      "((0, 0, 1), 2)\n",
      "((0, 0, 2), 3)\n",
      "((0, 1, 0), 4)\n",
      "((0, 1, 1), 5)\n",
      "((0, 1, 2), 6)\n"
     ]
    }
   ],
   "source": [
    "var4 = np.array([[[1,2,3],[4,5,6]]])\n",
    "\n",
    "print(var4)\n",
    "print(var4.ndim)\n",
    "print(var4.shape)\n",
    "print()\n",
    "\n",
    "for i in np.ndenumerate(var4):  # ndenumerate() function is used to get the indexing along with the data\n",
    "    print(i)"
   ]
  },
  {
   "cell_type": "code",
   "execution_count": null,
   "id": "4b27b75a",
   "metadata": {},
   "outputs": [],
   "source": []
  }
 ],
 "metadata": {
  "kernelspec": {
   "display_name": "Python 3 (ipykernel)",
   "language": "python",
   "name": "python3"
  },
  "language_info": {
   "codemirror_mode": {
    "name": "ipython",
    "version": 3
   },
   "file_extension": ".py",
   "mimetype": "text/x-python",
   "name": "python",
   "nbconvert_exporter": "python",
   "pygments_lexer": "ipython3",
   "version": "3.11.5"
  }
 },
 "nbformat": 4,
 "nbformat_minor": 5
}
