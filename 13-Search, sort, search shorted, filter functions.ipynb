{
 "cells": [
  {
   "cell_type": "code",
   "execution_count": 1,
   "id": "87391887",
   "metadata": {},
   "outputs": [],
   "source": [
    "import numpy as np"
   ]
  },
  {
   "cell_type": "code",
   "execution_count": 9,
   "id": "b4b64bfd",
   "metadata": {},
   "outputs": [
    {
     "name": "stdout",
     "output_type": "stream",
     "text": [
      "(array([2, 5, 7], dtype=int64),)\n",
      "\n",
      "(array([0, 2, 4, 5, 7, 9], dtype=int64),)\n"
     ]
    }
   ],
   "source": [
    "var = np.array([4,1,2,3,4,2,5,2,5,6,7])\n",
    "\n",
    "x = np.where(var==2)\n",
    "x1 = np.where((var%2)==0)\n",
    "\n",
    "print(x)\n",
    "print()\n",
    "print(x1)"
   ]
  },
  {
   "cell_type": "code",
   "execution_count": null,
   "id": "df8d1bd7",
   "metadata": {},
   "outputs": [],
   "source": []
  },
  {
   "cell_type": "code",
   "execution_count": null,
   "id": "cb4137dc",
   "metadata": {},
   "outputs": [],
   "source": []
  },
  {
   "cell_type": "code",
   "execution_count": 12,
   "id": "2c4ab1a5",
   "metadata": {},
   "outputs": [
    {
     "name": "stdout",
     "output_type": "stream",
     "text": [
      "4\n",
      "4\n",
      "[4 5 6]\n"
     ]
    }
   ],
   "source": [
    "var1 = np.array([1,2,3,4,6,7,8])\n",
    "\n",
    "x2 = np.searchsorted(var1,5)\n",
    "x3 = np.searchsorted(var1,5,side=\"right\")\n",
    "x4 = np.searchsorted(var1,[5,6,7],side=\"right\")  # we can also give the list of elements to be inserted\n",
    "\n",
    "print(x2)\n",
    "print(x3)\n",
    "print(x4)"
   ]
  },
  {
   "cell_type": "code",
   "execution_count": null,
   "id": "ebe718fc",
   "metadata": {},
   "outputs": [],
   "source": []
  },
  {
   "cell_type": "code",
   "execution_count": null,
   "id": "c10ebd51",
   "metadata": {},
   "outputs": [],
   "source": []
  },
  {
   "cell_type": "code",
   "execution_count": 13,
   "id": "ce5b202d",
   "metadata": {},
   "outputs": [
    {
     "name": "stdout",
     "output_type": "stream",
     "text": [
      "[2 2 3 4 5 5 6 7 9]\n"
     ]
    }
   ],
   "source": [
    "vr1 = np.array([4,2,5,6,7,9,2,5,3])\n",
    "\n",
    "xm = np.sort(vr1)\n",
    "\n",
    "print(xm)"
   ]
  },
  {
   "cell_type": "code",
   "execution_count": 14,
   "id": "83720195",
   "metadata": {},
   "outputs": [
    {
     "name": "stdout",
     "output_type": "stream",
     "text": [
      "['a' 'b' 'd' 'r']\n"
     ]
    }
   ],
   "source": [
    "vr2 = np.array(['a','d','r','b'])\n",
    "\n",
    "xm1 = np.sort(vr2)\n",
    "\n",
    "print(xm1)"
   ]
  },
  {
   "cell_type": "code",
   "execution_count": 15,
   "id": "eb46121d",
   "metadata": {},
   "outputs": [
    {
     "name": "stdout",
     "output_type": "stream",
     "text": [
      "[[2 4]\n",
      " [5 6]\n",
      " [7 9]\n",
      " [2 5]]\n"
     ]
    }
   ],
   "source": [
    "vr3 = np.array([[4,2],[5,6],[7,9],[2,5]])\n",
    "\n",
    "xm2 = np.sort(vr3)  # we can also sort a 2D array\n",
    "\n",
    "print(xm2)"
   ]
  },
  {
   "cell_type": "code",
   "execution_count": null,
   "id": "b2bfa376",
   "metadata": {},
   "outputs": [],
   "source": []
  },
  {
   "cell_type": "code",
   "execution_count": null,
   "id": "e7214898",
   "metadata": {},
   "outputs": [],
   "source": []
  },
  {
   "cell_type": "code",
   "execution_count": 20,
   "id": "c9b30302",
   "metadata": {},
   "outputs": [
    {
     "name": "stdout",
     "output_type": "stream",
     "text": [
      "['a' 'd']\n",
      "<class 'numpy.ndarray'>\n"
     ]
    }
   ],
   "source": [
    "fil = np.array([\"a\",\"s\",\"d\",\"f\"])\n",
    "\n",
    "fil_list = [True, False, True, False]\n",
    "\n",
    "new_fil = fil[fil_list]\n",
    "\n",
    "print(new_fil)\n",
    "print(type(new_fil))"
   ]
  },
  {
   "cell_type": "code",
   "execution_count": null,
   "id": "f967dc49",
   "metadata": {},
   "outputs": [],
   "source": []
  }
 ],
 "metadata": {
  "kernelspec": {
   "display_name": "Python 3 (ipykernel)",
   "language": "python",
   "name": "python3"
  },
  "language_info": {
   "codemirror_mode": {
    "name": "ipython",
    "version": 3
   },
   "file_extension": ".py",
   "mimetype": "text/x-python",
   "name": "python",
   "nbconvert_exporter": "python",
   "pygments_lexer": "ipython3",
   "version": "3.11.5"
  }
 },
 "nbformat": 4,
 "nbformat_minor": 5
}
