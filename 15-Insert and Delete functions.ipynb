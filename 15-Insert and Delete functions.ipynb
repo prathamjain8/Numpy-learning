{
 "cells": [
  {
   "cell_type": "code",
   "execution_count": 2,
   "id": "87f28ad3",
   "metadata": {},
   "outputs": [],
   "source": [
    "import numpy as np"
   ]
  },
  {
   "cell_type": "code",
   "execution_count": 2,
   "id": "4f6d2f0a",
   "metadata": {},
   "outputs": [
    {
     "name": "stdout",
     "output_type": "stream",
     "text": [
      "[1 2 3 4]\n",
      "\n",
      "\n",
      "[1 2 7 3 4 7]\n"
     ]
    }
   ],
   "source": [
    "var = np.array([1,2,3,4])\n",
    "\n",
    "print(var)\n",
    "\n",
    "print()\n",
    "\n",
    "v = np.insert(var, (2,4), 7)\n",
    "\n",
    "print()\n",
    "\n",
    "print(v)"
   ]
  },
  {
   "cell_type": "code",
   "execution_count": 19,
   "id": "c2ae690c",
   "metadata": {},
   "outputs": [
    {
     "name": "stdout",
     "output_type": "stream",
     "text": [
      "[1.  2.  3.  4.  6.5]\n"
     ]
    }
   ],
   "source": [
    "var_app = np.array([1,2,3,4])\n",
    "\n",
    "v_app = np.append(var, 6.5)  # we can also insert the value in the numpy array using append function\n",
    "\n",
    "print(v_app)"
   ]
  },
  {
   "cell_type": "code",
   "execution_count": 4,
   "id": "bcf30fca",
   "metadata": {},
   "outputs": [
    {
     "name": "stdout",
     "output_type": "stream",
     "text": [
      "[[1 2 3]\n",
      " [1 2 3]]\n",
      "\n",
      "[[ 1  2  3]\n",
      " [ 1  2  3]\n",
      " [22 23 24]]\n"
     ]
    }
   ],
   "source": [
    "var1 = np.array([[1,2,3],[1,2,3]])\n",
    "print(var1)\n",
    "print()\n",
    "\n",
    "v1 = np.insert(var1, 2,[22,23,24], axis=0)\n",
    "\n",
    "print(v1)"
   ]
  },
  {
   "cell_type": "code",
   "execution_count": 21,
   "id": "7aaeaaad",
   "metadata": {},
   "outputs": [
    {
     "name": "stdout",
     "output_type": "stream",
     "text": [
      "[[ 1  2  3]\n",
      " [ 1  2  3]\n",
      " [22 23 24]]\n"
     ]
    }
   ],
   "source": [
    "var1_app = np.array([[1,2,3],[1,2,3]])\n",
    "\n",
    "v1_app = np.append(var1_app, [[22,23,24]], axis=0) # using the append() function to insert the data in 2D array\n",
    "\n",
    "print(v1_app)"
   ]
  },
  {
   "cell_type": "code",
   "execution_count": null,
   "id": "aa5bb1fe",
   "metadata": {},
   "outputs": [],
   "source": []
  },
  {
   "cell_type": "code",
   "execution_count": null,
   "id": "82416e8c",
   "metadata": {},
   "outputs": [],
   "source": []
  },
  {
   "cell_type": "code",
   "execution_count": 22,
   "id": "ceb541ea",
   "metadata": {},
   "outputs": [
    {
     "name": "stdout",
     "output_type": "stream",
     "text": [
      "[1 2 3 4]\n",
      "[1 2 4]\n"
     ]
    }
   ],
   "source": [
    "var_del = np.array([1,2,3,4])\n",
    "\n",
    "print(var_del)\n",
    "\n",
    "d = np.delete(var_del, 2)\n",
    "\n",
    "\n"
   ]
  },
  {
   "cell_type": "code",
   "execution_count": null,
   "id": "5047b222",
   "metadata": {},
   "outputs": [],
   "source": []
  }
 ],
 "metadata": {
  "kernelspec": {
   "display_name": "Python 3 (ipykernel)",
   "language": "python",
   "name": "python3"
  },
  "language_info": {
   "codemirror_mode": {
    "name": "ipython",
    "version": 3
   },
   "file_extension": ".py",
   "mimetype": "text/x-python",
   "name": "python",
   "nbconvert_exporter": "python",
   "pygments_lexer": "ipython3",
   "version": "3.11.5"
  }
 },
 "nbformat": 4,
 "nbformat_minor": 5
}
