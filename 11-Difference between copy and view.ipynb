{
 "cells": [
  {
   "cell_type": "code",
   "execution_count": 1,
   "id": "f022e932",
   "metadata": {},
   "outputs": [],
   "source": [
    "import numpy as np"
   ]
  },
  {
   "cell_type": "code",
   "execution_count": 2,
   "id": "41efeb79",
   "metadata": {},
   "outputs": [
    {
     "name": "stdout",
     "output_type": "stream",
     "text": [
      "var: [ 1 40  3  4]\n",
      "Copy: [1 2 3 4]\n"
     ]
    }
   ],
   "source": [
    "var = np.array([1,2,3,4])\n",
    "\n",
    "co = var.copy()  # copy function is used to copy the data\n",
    "\n",
    "var[1] = 40  # changes in original data doesnt effect the copied data\n",
    "\n",
    "print(\"var:\",var)\n",
    "print(\"Copy:\",co)"
   ]
  },
  {
   "cell_type": "code",
   "execution_count": 3,
   "id": "57349c7c",
   "metadata": {},
   "outputs": [
    {
     "name": "stdout",
     "output_type": "stream",
     "text": [
      "x: [ 9 40  7  6  5]\n",
      "view: [ 9 40  7  6  5]\n"
     ]
    }
   ],
   "source": [
    "x = np.array([9,8,7,6,5])\n",
    "\n",
    "vi = x.view() # view function is used to copy the data\n",
    "\n",
    "x[1] = 40     # changes in original data effect the copied data\n",
    "\n",
    "print(\"x:\",x)\n",
    "print(\"view:\",vi)"
   ]
  },
  {
   "cell_type": "code",
   "execution_count": null,
   "id": "191513f2",
   "metadata": {},
   "outputs": [],
   "source": []
  }
 ],
 "metadata": {
  "kernelspec": {
   "display_name": "Python 3 (ipykernel)",
   "language": "python",
   "name": "python3"
  },
  "language_info": {
   "codemirror_mode": {
    "name": "ipython",
    "version": 3
   },
   "file_extension": ".py",
   "mimetype": "text/x-python",
   "name": "python",
   "nbconvert_exporter": "python",
   "pygments_lexer": "ipython3",
   "version": "3.11.5"
  }
 },
 "nbformat": 4,
 "nbformat_minor": 5
}
